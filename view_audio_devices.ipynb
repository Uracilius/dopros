{
 "cells": [
  {
   "cell_type": "code",
   "execution_count": 1,
   "metadata": {},
   "outputs": [
    {
     "data": {
      "text/plain": [
       "[True, False, False]"
      ]
     },
     "execution_count": 1,
     "metadata": {},
     "output_type": "execute_result"
    }
   ],
   "source": [
    "fruits = [\"banana\", \"apple\", \"tree\"]\n",
    "\n",
    "fruits_filtered = [fruit==\"banana\" for fruit in fruits]\n",
    "\n",
    "fruits_filtered"
   ]
  },
  {
   "cell_type": "code",
   "execution_count": 2,
   "metadata": {},
   "outputs": [
    {
     "name": "stdout",
     "output_type": "stream",
     "text": [
      "Index 0: Microsoft Sound Mapper - Input - Input Channels: 2 - Output Channels: 0\n",
      "Index 1: Microphone Array (Realtek(R) Au - Input Channels: 2 - Output Channels: 0\n",
      "Index 2: Microsoft Sound Mapper - Output - Input Channels: 0 - Output Channels: 2\n",
      "Index 3: Speakers (Realtek(R) Audio) - Input Channels: 0 - Output Channels: 2\n",
      "Index 4: Primary Sound Capture Driver - Input Channels: 2 - Output Channels: 0\n",
      "Index 5: Microphone Array (Realtek(R) Audio) - Input Channels: 2 - Output Channels: 0\n",
      "Index 6: Primary Sound Driver - Input Channels: 0 - Output Channels: 2\n",
      "Index 7: Speakers (Realtek(R) Audio) - Input Channels: 0 - Output Channels: 2\n",
      "Index 8: Speakers (Realtek(R) Audio) - Input Channels: 0 - Output Channels: 2\n",
      "Index 9: Microphone Array (Realtek(R) Audio) - Input Channels: 2 - Output Channels: 0\n",
      "Index 10: Headphones 1 (Realtek HD Audio 2nd output with SST) - Input Channels: 0 - Output Channels: 2\n",
      "Index 11: Headphones 2 (Realtek HD Audio 2nd output with SST) - Input Channels: 0 - Output Channels: 2\n",
      "Index 12: PC Speaker (Realtek HD Audio 2nd output with SST) - Input Channels: 2 - Output Channels: 0\n",
      "Index 13: Speakers 1 (Realtek HD Audio output with SST) - Input Channels: 0 - Output Channels: 2\n",
      "Index 14: Speakers 2 (Realtek HD Audio output with SST) - Input Channels: 0 - Output Channels: 2\n",
      "Index 15: PC Speaker (Realtek HD Audio output with SST) - Input Channels: 2 - Output Channels: 0\n",
      "Index 16: Stereo Mix (Realtek HD Audio Stereo input) - Input Channels: 2 - Output Channels: 0\n",
      "Index 17: Microphone Array (Realtek HD Audio Mic Array input) - Input Channels: 2 - Output Channels: 0\n",
      "Index 18: Microphone (Realtek HD Audio Mic input) - Input Channels: 2 - Output Channels: 0\n",
      "Index 19: Headphones () - Input Channels: 0 - Output Channels: 2\n",
      "Index 20: Input () - Input Channels: 2 - Output Channels: 0\n",
      "Index 21: Headphones () - Input Channels: 0 - Output Channels: 2\n",
      "Index 22: Headphones () - Input Channels: 0 - Output Channels: 2\n"
     ]
    }
   ],
   "source": [
    "import pyaudio\n",
    "\n",
    "p = pyaudio.PyAudio()\n",
    "\n",
    "for i in range(p.get_device_count()):\n",
    "    info = p.get_device_info_by_index(i)\n",
    "    print(f\"Index {i}: {info['name']} - Input Channels: {info['maxInputChannels']} - Output Channels: {info['maxOutputChannels']}\")\n",
    "\n",
    "p.terminate()\n"
   ]
  }
 ],
 "metadata": {
  "kernelspec": {
   "display_name": "venv",
   "language": "python",
   "name": "python3"
  },
  "language_info": {
   "codemirror_mode": {
    "name": "ipython",
    "version": 3
   },
   "file_extension": ".py",
   "mimetype": "text/x-python",
   "name": "python",
   "nbconvert_exporter": "python",
   "pygments_lexer": "ipython3",
   "version": "3.10.0"
  }
 },
 "nbformat": 4,
 "nbformat_minor": 2
}
